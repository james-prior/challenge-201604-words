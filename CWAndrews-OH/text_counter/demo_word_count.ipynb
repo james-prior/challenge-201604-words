{
 "cells": [
  {
   "cell_type": "markdown",
   "metadata": {},
   "source": [
    "# ***Working Word Definition:***\n",
    "\n",
    "### A word is a string of letters(case insensitive)^ separated from other words by whitespace and which is also found in the UNIX words dictionary file (/usr/share/dict/words)**.\n",
    "\n",
    "_^The 26 letters of the English Alphabet (No numbers or special characters)_\n",
    "\n",
    "_*The UNIX words dictionary file is a list of ~230K English words_"
   ]
  },
  {
   "cell_type": "code",
   "execution_count": 1,
   "metadata": {
    "collapsed": false
   },
   "outputs": [],
   "source": [
    "%matplotlib inline\n",
    "\n",
    "from word_count import WordCounter, LetterCounter\n",
    "import requests\n",
    "import io\n",
    "\n",
    "\n",
    "MULTI_LINE_STRING = (\n",
    "    'This is?\\r my |file.\\n'\n",
    "    'It right\\t 123 I suppose...\\n'\n",
    "    'This is !really! test.\\n'\n",
    "    'I hope it, works')\n",
    "NO_NEWLINE_STRING = (\n",
    "    'This is just another string but long and no newlines '\n",
    "    'to test the read_in_string method. is is.')\n",
    "\n",
    "FRANKENSTEIN_TEXT_FILENAME = './static/pg84.txt'\n",
    "FRANKENSTEIN_TEXT_URL = 'http://www.gutenberg.org/ebooks/84.txt.utf-8'\n",
    "FRANKENSTEIN_TEXT_URL = 'http://www.gutenberg.lib.md.us/8/84/84.txt'\n",
    "MOON_TEXT_FILENAME = './static/pg83.txt'\n",
    "\n",
    "n = 15  # Number of most common items to show."
   ]
  },
  {
   "cell_type": "code",
   "execution_count": 2,
   "metadata": {
    "collapsed": false
   },
   "outputs": [
    {
     "data": {
      "text/plain": [
       "[('the', 4188),\n",
       " ('and', 2970),\n",
       " ('i', 2840),\n",
       " ('of', 2639),\n",
       " ('to', 2092),\n",
       " ('my', 1772),\n",
       " ('a', 1384),\n",
       " ('in', 1127),\n",
       " ('was', 1021),\n",
       " ('that', 1014),\n",
       " ('me', 864),\n",
       " ('had', 686),\n",
       " ('but', 685),\n",
       " ('with', 666),\n",
       " ('he', 604)]"
      ]
     },
     "execution_count": 2,
     "metadata": {},
     "output_type": "execute_result"
    }
   ],
   "source": [
    "# Read \"Frankenstein\" from a file and\n",
    "# show the n most common words and their counts.\n",
    "\n",
    "word_counts = WordCounter(open(FRANKENSTEIN_TEXT_FILENAME).read())\n",
    "a = word_counts.most_common(n)\n",
    "a"
   ]
  },
  {
   "cell_type": "code",
   "execution_count": 3,
   "metadata": {
    "collapsed": false
   },
   "outputs": [
    {
     "name": "stdout",
     "output_type": "stream",
     "text": [
      "1 loop, best of 3: 214 ms per loop\n",
      "1000 loops, best of 3: 1.7 ms per loop\n"
     ]
    }
   ],
   "source": [
    "# Show how fast the words are counted.\n",
    "\n",
    "%timeit word_counts = WordCounter(open(FRANKENSTEIN_TEXT_FILENAME).read())\n",
    "%timeit word_counts.most_common(n)"
   ]
  },
  {
   "cell_type": "code",
   "execution_count": 4,
   "metadata": {
    "collapsed": false
   },
   "outputs": [
    {
     "data": {
      "text/plain": [
       "([('the', 4188),\n",
       "  ('and', 2970),\n",
       "  ('i', 2840),\n",
       "  ('of', 2639),\n",
       "  ('to', 2092),\n",
       "  ('my', 1772),\n",
       "  ('a', 1384),\n",
       "  ('in', 1127),\n",
       "  ('was', 1021),\n",
       "  ('that', 1014),\n",
       "  ('me', 864),\n",
       "  ('had', 686),\n",
       "  ('but', 685),\n",
       "  ('with', 666),\n",
       "  ('he', 604)],\n",
       " True)"
      ]
     },
     "execution_count": 4,
     "metadata": {},
     "output_type": "execute_result"
    }
   ],
   "source": [
    "# Read \"Frankenstein\" from the web and\n",
    "# show the n most common words and their counts.\n",
    "\n",
    "r = requests.get(FRANKENSTEIN_TEXT_URL)\n",
    "f = io.StringIO(r.text, newline=None)\n",
    "word_counts = WordCounter(f.read())\n",
    "c = word_counts.most_common(n)\n",
    "c, a == c"
   ]
  },
  {
   "cell_type": "code",
   "execution_count": 5,
   "metadata": {
    "collapsed": false
   },
   "outputs": [
    {
     "data": {
      "text/plain": [
       "[('l', 3), ('e', 2), ('h', 1), ('s', 1), ('y', 1)]"
      ]
     },
     "execution_count": 5,
     "metadata": {},
     "output_type": "execute_result"
    }
   ],
   "source": [
    "# Count the letters in a string and\n",
    "# show the 100 most common letters and their counts.\n",
    "#\n",
    "# Asking for most letters than there are\n",
    "# returns all of the letters.\n",
    "\n",
    "letter_counts = LetterCounter('L. Shelley')\n",
    "letter_counts.most_common(100)"
   ]
  },
  {
   "cell_type": "code",
   "execution_count": 6,
   "metadata": {
    "collapsed": false
   },
   "outputs": [
    {
     "data": {
      "text/plain": [
       "[('e', 44210),\n",
       " ('t', 28835),\n",
       " ('a', 25733),\n",
       " ('o', 23886),\n",
       " ('i', 23483),\n",
       " ('n', 23306),\n",
       " ('s', 20380),\n",
       " ('r', 19647),\n",
       " ('h', 19194),\n",
       " ('d', 16327),\n",
       " ('l', 12239),\n",
       " ('m', 10237),\n",
       " ('u', 9897),\n",
       " ('c', 8644),\n",
       " ('f', 8341),\n",
       " ('y', 7578),\n",
       " ('w', 7364),\n",
       " ('p', 5672),\n",
       " ('g', 5564),\n",
       " ('b', 4749),\n",
       " ('v', 3717),\n",
       " ('k', 1617),\n",
       " ('x', 649),\n",
       " ('j', 413),\n",
       " ('q', 313),\n",
       " ('z', 239)]"
      ]
     },
     "execution_count": 6,
     "metadata": {},
     "output_type": "execute_result"
    }
   ],
   "source": [
    "# Read \"Frankenstein\" from a file and\n",
    "# show the most common letters and their counts.\n",
    "\n",
    "letter_counts = LetterCounter(open(FRANKENSTEIN_TEXT_FILENAME).read())\n",
    "letter_counts.most_common()"
   ]
  },
  {
   "cell_type": "code",
   "execution_count": 7,
   "metadata": {
    "collapsed": false
   },
   "outputs": [
    {
     "name": "stdout",
     "output_type": "stream",
     "text": [
      "10 loops, best of 3: 114 ms per loop\n",
      "100000 loops, best of 3: 11.5 µs per loop\n"
     ]
    }
   ],
   "source": [
    "# Show how fast the letters are counted.\n",
    "\n",
    "%timeit letter_counts = LetterCounter(open(FRANKENSTEIN_TEXT_FILENAME).read())\n",
    "%timeit letter_counts.most_common()"
   ]
  },
  {
   "cell_type": "code",
   "execution_count": 8,
   "metadata": {
    "collapsed": false
   },
   "outputs": [
    {
     "data": {
      "image/png": "[encoded data removed]",
      "text/plain": [
       "<matplotlib.figure.Figure at 0xafe0354c>"
      ]
     },
     "metadata": {},
     "output_type": "display_data"
    }
   ],
   "source": [
    "word_counts.plot_counts(15)"
   ]
  },
  {
   "cell_type": "code",
   "execution_count": 9,
   "metadata": {
    "collapsed": false
   },
   "outputs": [
    {
     "data": {
      "image/png": "[encoded data removed]",
      "text/plain": [
       "<matplotlib.figure.Figure at 0xafd52c6c>"
      ]
     },
     "metadata": {},
     "output_type": "display_data"
    }
   ],
   "source": [
    "letter_counts.plot_counts(100)"
   ]
  }
 ],
 "metadata": {
  "kernelspec": {
   "display_name": "Python 3",
   "language": "python",
   "name": "python3"
  },
  "language_info": {
   "codemirror_mode": {
    "name": "ipython",
    "version": 3
   },
   "file_extension": ".py",
   "mimetype": "text/x-python",
   "name": "python",
   "nbconvert_exporter": "python",
   "pygments_lexer": "ipython3",
   "version": "3.4.3"
  }
 },
 "nbformat": 4,
 "nbformat_minor": 0
}
